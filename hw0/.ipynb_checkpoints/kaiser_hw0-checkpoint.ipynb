{
 "cells": [
  {
   "cell_type": "markdown",
   "metadata": {
    "collapsed": true,
    "pycharm": {
     "name": "#%% md\n"
    }
   },
   "source": [
    "## HW0\n",
    "### A.11\n",
    "#### 1. initiate array A,b,c in Problem 8"
   ]
  },
  {
   "cell_type": "code",
   "execution_count": 2,
   "metadata": {
    "pycharm": {
     "is_executing": false,
     "name": "#%%\n"
    }
   },
   "outputs": [
    {
     "name": "stdout",
     "output_type": "stream",
     "text": [
      "[[0 2 4]\n",
      " [2 4 2]\n",
      " [3 3 1]] [-2 -2 -4] [1 1 1]\n"
     ]
    }
   ],
   "source": [
    "import numpy as np\n",
    "A = np.array([[0,2,4],[2,4,2],[3,3,1]])\n",
    "b = np.array([-2,-2,-4])\n",
    "c = np.array([1,1,1])\n",
    "print(A, b, c)"
   ]
  },
  {
   "cell_type": "markdown",
   "metadata": {},
   "source": [
    "2. Calculate A^-1"
   ]
  },
  {
   "cell_type": "code",
   "execution_count": 3,
   "metadata": {
    "pycharm": {
     "is_executing": false,
     "name": "#%%\n"
    }
   },
   "outputs": [
    {
     "name": "stdout",
     "output_type": "stream",
     "text": [
      "[[ 0.125 -0.625  0.75 ]\n",
      " [-0.25   0.75  -0.5  ]\n",
      " [ 0.375 -0.375  0.25 ]]\n"
     ]
    }
   ],
   "source": [
    "A_inv = np.linalg.inv(A)\n",
    "print(A_inv)"
   ]
  },
  {
   "cell_type": "markdown",
   "metadata": {},
   "source": [
    "3. Calculate A^-1*b and Ac"
   ]
  },
  {
   "cell_type": "code",
   "execution_count": 4,
   "metadata": {
    "pycharm": {
     "is_executing": false,
     "name": "#%%\n"
    }
   },
   "outputs": [
    {
     "name": "stdout",
     "output_type": "stream",
     "text": [
      "[-2.  1. -1.]\n",
      "[6 8 7]\n"
     ]
    }
   ],
   "source": [
    "A_inv_mul_b =  np.dot(A_inv, b)\n",
    "A_mul_c = np.dot(A, c)\n",
    "print(A_inv_mul_b)\n",
    "print(A_mul_c)"
   ]
  },
  {
   "cell_type": "markdown",
   "metadata": {
    "pycharm": {
     "name": "#%% md\n"
    }
   },
   "source": [
    "### A.12 \n",
    "we need to choose a n large enough "
   ]
  },
  {
   "cell_type": "code",
   "execution_count": 15,
   "metadata": {
    "pycharm": {
     "is_executing": false,
     "name": "#%%\n"
    }
   },
   "outputs": [
    {
     "name": "stdout",
     "output_type": "stream",
     "text": [
      "[0.0015 0.0016 0.0016 0.0017 0.0017 0.0017 0.0017 0.0017 0.0017 0.0017\n",
      " 0.0018 0.0019 0.002  0.0021 0.0022 0.0023 0.0023 0.0023 0.0023 0.0024\n",
      " 0.0027 0.0027 0.0028 0.0029 0.0029 0.0029 0.0029 0.0029 0.0029 0.003\n",
      " 0.003  0.003  0.003  0.003  0.0031 0.0031 0.0031 0.0031 0.0033 0.0033\n",
      " 0.0034 0.0034 0.0034 0.0034 0.0034 0.0035 0.0036 0.0036 0.0038 0.0039\n",
      " 0.0039 0.0039 0.0041 0.0041 0.0043 0.0045 0.0046 0.0048 0.0049 0.0049\n",
      " 0.0049 0.005  0.0051 0.0051 0.0052 0.0053 0.0053 0.0055 0.0056 0.0057\n",
      " 0.0058 0.0059 0.006  0.0062 0.0063 0.0065 0.0065 0.0067 0.0069 0.0069\n",
      " 0.0069 0.007  0.0071 0.0071 0.0073 0.0074 0.0076 0.0077 0.0077 0.008\n",
      " 0.008  0.0081 0.0081 0.0081 0.0081 0.0082 0.0083 0.0084 0.0085 0.0085\n",
      " 0.0088 0.0091 0.0091 0.0092 0.0094 0.0096 0.0097 0.0097 0.0098 0.0099\n",
      " 0.01   0.01   0.0101 0.0103 0.0104 0.0106 0.0108 0.0109 0.0111 0.0114\n",
      " 0.0116 0.0118 0.0119 0.0122 0.0123 0.0124 0.0125 0.0129 0.013  0.013\n",
      " 0.0132 0.0134 0.0137 0.014  0.014  0.014  0.0141 0.0143 0.0146 0.0149\n",
      " 0.0151 0.0154 0.016  0.0161 0.0161 0.0162 0.0167 0.0172 0.0172 0.0173\n",
      " 0.0176 0.0176 0.0177 0.0177 0.018  0.0184 0.0185 0.0192 0.0196 0.02\n",
      " 0.0205 0.0211 0.0213 0.0218 0.0218 0.0221 0.0228 0.0231 0.0234 0.0238\n",
      " 0.024  0.0246 0.0251 0.0252 0.0257 0.026  0.0262 0.0266 0.0269 0.0273\n",
      " 0.0277 0.0283 0.0286 0.0289 0.0297 0.03   0.0301 0.0305 0.0309 0.0311\n",
      " 0.0312 0.0314 0.0316 0.0321 0.0322 0.0327 0.0329 0.0334 0.0338 0.0342\n",
      " 0.0347 0.035  0.0351 0.0356 0.0363 0.0369 0.0373 0.0374 0.0382 0.0386\n",
      " 0.0393 0.0397 0.0398 0.0405 0.0406 0.0409 0.0413 0.0418 0.0423 0.0434\n",
      " 0.0436 0.0437 0.0444 0.0456 0.0459 0.0461 0.047  0.0483 0.0486 0.049\n",
      " 0.0494 0.0503 0.0509 0.0514 0.0521 0.0529 0.0534 0.054  0.055  0.0558\n",
      " 0.0569 0.0575 0.058  0.0582 0.0586 0.0597 0.0603 0.0607 0.0613 0.0624\n",
      " 0.0638 0.0647 0.0656 0.0667 0.0676 0.0681 0.0694 0.0704 0.0716 0.0724\n",
      " 0.0733 0.0739 0.0749 0.0762 0.0771 0.0786 0.0795 0.0806 0.0816 0.0822\n",
      " 0.0832 0.0841 0.0851 0.0861 0.087  0.0878 0.0886 0.0899 0.0914 0.0925\n",
      " 0.0936 0.0946 0.0961 0.0974 0.0988 0.0996 0.1004 0.1011 0.1022 0.1031\n",
      " 0.1038 0.1047 0.1059 0.1072 0.1079 0.1094 0.1106 0.112  0.1129 0.1137\n",
      " 0.1155 0.1167 0.1183 0.1194 0.1218 0.1232 0.1242 0.125  0.1262 0.1268\n",
      " 0.1281 0.1296 0.1306 0.1317 0.1331 0.1351 0.1363 0.1372 0.1384 0.1399\n",
      " 0.1415 0.1429 0.1443 0.1453 0.1464 0.1479 0.1492 0.151  0.1525 0.1537\n",
      " 0.1553 0.1563 0.1581 0.1591 0.1605 0.1617 0.1633 0.1651 0.1666 0.1682\n",
      " 0.1696 0.1715 0.1726 0.1749 0.177  0.1783 0.1793 0.1805 0.1816 0.1829\n",
      " 0.1847 0.1863 0.1878 0.19   0.1917 0.194  0.1949 0.196  0.1974 0.1984\n",
      " 0.1999 0.2021 0.2036 0.2057 0.2087 0.2104 0.2113 0.2134 0.216  0.2181\n",
      " 0.2197 0.2217 0.2235 0.2248 0.2268 0.229  0.231  0.2322 0.2336 0.2358\n",
      " 0.2382 0.2395 0.2413 0.2438 0.2452 0.2472 0.2488 0.2509 0.2522 0.2545\n",
      " 0.2566 0.2583 0.2608 0.2635 0.2653 0.2672 0.2693 0.2714 0.2734 0.2754\n",
      " 0.2774 0.2787 0.2807 0.2831 0.2852 0.2872 0.2888 0.2911 0.293  0.2945\n",
      " 0.2967 0.2986 0.3007 0.303  0.3051 0.3065 0.3087 0.3105 0.3124 0.3144\n",
      " 0.3161 0.319  0.3216 0.3235 0.3258 0.3281 0.3303 0.3322 0.3342 0.3378\n",
      " 0.3406 0.3425 0.344  0.3468 0.349  0.3511 0.3525 0.3545 0.3559 0.3584\n",
      " 0.361  0.3624 0.3652 0.3672 0.3696 0.3713 0.3734 0.3748 0.3773 0.3796\n",
      " 0.3816 0.3835 0.3854 0.3874 0.3893 0.3912 0.3934 0.3959 0.3978 0.4004\n",
      " 0.4035 0.4053 0.4072 0.409  0.4125 0.4152 0.418  0.4213 0.4238 0.4261\n",
      " 0.4287 0.4304 0.4332 0.4356 0.4377 0.4402 0.4423 0.4449 0.4474 0.4495\n",
      " 0.4524 0.4556 0.4575 0.4591 0.4607 0.463  0.465  0.467  0.4685 0.4722\n",
      " 0.4741 0.4766 0.4787 0.4811 0.4835 0.4854 0.4875 0.4897 0.4923 0.4949\n",
      " 0.4967 0.499  0.5013 0.5034 0.5056 0.5074 0.5098 0.5118 0.5148 0.5166\n",
      " 0.5185 0.5215 0.5234 0.5259 0.5282 0.5306 0.5327 0.5347 0.5367 0.5392\n",
      " 0.5412 0.5433 0.545  0.5476 0.5496 0.5524 0.5541 0.5563 0.5582 0.5605\n",
      " 0.5632 0.5655 0.5678 0.5701 0.5719 0.5733 0.5759 0.5776 0.5805 0.583\n",
      " 0.585  0.5873 0.5891 0.5914 0.5935 0.5956 0.5988 0.6005 0.6036 0.6065\n",
      " 0.6081 0.6101 0.612  0.6148 0.6171 0.6193 0.6215 0.6241 0.6259 0.6281\n",
      " 0.6304 0.633  0.6349 0.6367 0.6386 0.6407 0.643  0.6453 0.6472 0.649\n",
      " 0.6507 0.6525 0.6555 0.6577 0.66   0.6623 0.6648 0.6674 0.6705 0.6725\n",
      " 0.6748 0.6773 0.6795 0.6815 0.6834 0.6855 0.6874 0.689  0.69   0.6913\n",
      " 0.6934 0.6947 0.6972 0.7    0.7028 0.7051 0.7064 0.7088 0.7112 0.7138\n",
      " 0.7165 0.7187 0.7201 0.7227 0.7245 0.7267 0.7286 0.7312 0.733  0.735\n",
      " 0.7375 0.7394 0.7415 0.7436 0.7458 0.7473 0.7495 0.7513 0.7536 0.7555\n",
      " 0.7572 0.7593 0.761  0.7627 0.7641 0.7659 0.768  0.7696 0.7714 0.7736\n",
      " 0.7751 0.7765 0.7785 0.7801 0.7814 0.7839 0.7853 0.7876 0.7896 0.7911\n",
      " 0.7925 0.7941 0.7955 0.797  0.7994 0.8009 0.8025 0.8046 0.8067 0.808\n",
      " 0.8103 0.812  0.8137 0.8155 0.8175 0.8185 0.82   0.8219 0.8233 0.825\n",
      " 0.8267 0.8294 0.8312 0.8328 0.8348 0.8365 0.8388 0.8406 0.8429 0.8449\n",
      " 0.8463 0.848  0.8496 0.8512 0.8531 0.8542 0.8556 0.8571 0.8581 0.8598\n",
      " 0.8608 0.8622 0.8636 0.8646 0.8654 0.8668 0.8681 0.8701 0.8715 0.8729\n",
      " 0.874  0.8747 0.8754 0.8769 0.878  0.879  0.8801 0.8813 0.8825 0.8834\n",
      " 0.8845 0.8863 0.8875 0.8885 0.8895 0.8912 0.8921 0.893  0.8943 0.895\n",
      " 0.896  0.8967 0.8975 0.8982 0.8991 0.8997 0.9008 0.9014 0.9025 0.9035\n",
      " 0.9041 0.9052 0.9066 0.9082 0.9093 0.9102 0.9109 0.9116 0.9125 0.9136\n",
      " 0.914  0.915  0.9158 0.9166 0.9171 0.9179 0.9187 0.9196 0.9206 0.9213\n",
      " 0.9223 0.9229 0.9235 0.9241 0.9249 0.9256 0.9267 0.9274 0.9288 0.9295\n",
      " 0.9304 0.9316 0.9327 0.9336 0.9345 0.9356 0.9358 0.9362 0.9368 0.9379\n",
      " 0.939  0.94   0.9409 0.9421 0.943  0.9438 0.9441 0.9449 0.9456 0.9458\n",
      " 0.9466 0.947  0.9479 0.9489 0.9491 0.9497 0.9508 0.9517 0.9524 0.9529\n",
      " 0.9539 0.9544 0.9545 0.955  0.9556 0.9559 0.9565 0.957  0.9573 0.958\n",
      " 0.9589 0.9592 0.9601 0.9607 0.961  0.9617 0.9621 0.9627 0.963  0.9633\n",
      " 0.964  0.9647 0.965  0.9655 0.9656 0.9663 0.9673 0.9679 0.9684 0.9692\n",
      " 0.9698 0.9701 0.9702 0.9705 0.9708 0.9714 0.9715 0.9722 0.9727 0.9729\n",
      " 0.9737 0.974  0.9745 0.9749 0.9753 0.9756 0.9759 0.9762 0.9769 0.9771\n",
      " 0.9774 0.9778 0.9779 0.9783 0.9787 0.979  0.9796 0.98   0.9801 0.9804\n",
      " 0.9805 0.9811 0.9814 0.9816 0.9821 0.9823 0.9828 0.9831 0.9832 0.9836\n",
      " 0.9838 0.9843 0.9843 0.9844 0.9848 0.9851 0.9854 0.9859 0.986  0.9863\n",
      " 0.9866 0.9867 0.9868 0.9872 0.9875 0.9875 0.9877 0.9879 0.9881 0.9884\n",
      " 0.9885 0.9887 0.9888 0.9888 0.989  0.9892 0.9893 0.9895 0.9896 0.9897\n",
      " 0.9898 0.9898 0.99   0.9901 0.9904 0.9905 0.9909 0.9909 0.991  0.9912\n",
      " 0.9915 0.9916 0.9918 0.992  0.9922 0.9924 0.9925 0.9926 0.9927 0.9927\n",
      " 0.9928 0.9928 0.9928 0.9929 0.993  0.9931 0.9931 0.9932 0.9933 0.9934\n",
      " 0.9934 0.9938 0.9939 0.9939 0.9942 0.9942 0.9942 0.9942 0.9944 0.9944\n",
      " 0.9946 0.9948 0.9949 0.9949 0.9949 0.995  0.9954 0.9955 0.9955 0.9955\n",
      " 0.9956 0.9956 0.9957 0.9958 0.9958 0.9959 0.9959 0.9959 0.9959 0.996\n",
      " 0.9961 0.9961 0.9962 0.9963 0.9963 0.9963 0.9964 0.9964 0.9967 0.9968\n",
      " 0.9969 0.9969 0.9969 0.997  0.997  0.997  0.997  0.997  0.997  0.997\n",
      " 0.997  0.9971 0.9971 0.9971 0.9971 0.9972 0.9972 0.9972 0.9973 0.9973\n",
      " 0.9974 0.9974 0.9975 0.9975 0.9975 0.9976 0.9977 0.9978 0.9978 0.9978\n",
      " 0.9978 0.9978 0.9978 0.9978 0.9978 0.9978 0.9978 0.9978 0.9979 0.998\n",
      " 0.9981 0.9981 0.9982 0.9982 0.9983 0.9983 0.9983 0.9983 0.9983 0.9983]\n"
     ]
    }
   ],
   "source": [
    "def calculate_f_bar(n, x, Z):\n",
    "    return (1/n) * np.sum(np.where(Z <= x,1,0))        \n",
    "n = 10000\n",
    "x_array = np.linspace(-3,3,num=n//10)\n",
    "Z = sorted(np.random.randn(n))\n",
    "f_bar = np.array([calculate_f_bar(n, x, Z) for x in x_array])\n",
    "print(f_bar)"
   ]
  },
  {
   "cell_type": "code",
   "execution_count": 16,
   "metadata": {
    "pycharm": {
     "is_executing": false,
     "name": "#%%\n"
    }
   },
   "outputs": [
    {
     "name": "stdout",
     "output_type": "stream",
     "text": [
      "0.5347660304456603\n"
     ]
    }
   ],
   "source": [
    "import scipy.stats\n",
    "mean = 0\n",
    "standard_deviation = 1\n",
    "\n",
    "y_values = scipy.stats.norm(mean, standard_deviation)\n",
    "print(np.sqrt(np.mean((f_bar - y_values.pdf(x_array)) ** 2)))"
   ]
  },
  {
   "cell_type": "markdown",
   "metadata": {
    "pycharm": {
     "name": "#%% md\n"
    }
   },
   "source": [
    "5.b"
   ]
  },
  {
   "cell_type": "code",
   "execution_count": 10,
   "metadata": {
    "pycharm": {
     "is_executing": false,
     "name": "#%%\n"
    }
   },
   "outputs": [
    {
     "name": "stdout",
     "output_type": "stream",
     "text": [
      "Y_bar generate complete\n"
     ]
    }
   ],
   "source": [
    "import math\n",
    "def generate_y(k):\n",
    "    B = np.where(np.random.rand(k) >= 0.5,1,-1)\n",
    "    return (1.0/math.sqrt(k)) * np.sum(B)\n",
    "\n",
    "def generate_y_bar(k):\n",
    "    Y = [generate_y(k) for _ in range(n)]\n",
    "    return np.array([calculate_f_bar(n, x, Y) for x in x_array])\n",
    "\n",
    "k_array = [1,8,64,512]\n",
    "Y_bars = [generate_y_bar(k) for k in k_array]\n",
    "print(\"Y_bar generate complete\")"
   ]
  },
  {
   "cell_type": "markdown",
   "metadata": {},
   "source": [
    "plot the result"
   ]
  },
  {
   "cell_type": "code",
   "execution_count": 12,
   "metadata": {
    "pycharm": {
     "is_executing": false,
     "name": "#%%\n"
    }
   },
   "outputs": [
    {
     "data": {
      "text/plain": [
       "<matplotlib.legend.Legend at 0x1a19355c90>"
      ]
     },
     "execution_count": 12,
     "metadata": {},
     "output_type": "execute_result"
    },
    {
     "data": {
      "image/png": "[encoded data removed]",
      "text/plain": [
       "<Figure size 432x288 with 1 Axes>"
      ]
     },
     "metadata": {
      "needs_background": "light"
     },
     "output_type": "display_data"
    }
   ],
   "source": [
    "import matplotlib.pyplot as plt\n",
    "plt.xlim(-3,3)\n",
    "plt.ylabel(\"Probabilities\")\n",
    "plt.grid(axis='x', color='0.95')\n",
    "plt.xlabel('Observations')\n",
    "plt.step(x_array, f_bar, label=\"Gaussian\")\n",
    "plt.step(x_array, Y_bars[0], label=\"1\")\n",
    "plt.step(x_array, Y_bars[1], label=\"8\")\n",
    "plt.step(x_array, Y_bars[2], label=\"64\")\n",
    "plt.step(x_array, Y_bars[3], label=\"512\")\n",
    "plt.legend(title='Parameter where:')\n",
    "\n"
   ]
  }
 ],
 "metadata": {
  "kernelspec": {
   "display_name": "Python 3",
   "language": "python",
   "name": "python3"
  },
  "language_info": {
   "codemirror_mode": {
    "name": "ipython",
    "version": 3
   },
   "file_extension": ".py",
   "mimetype": "text/x-python",
   "name": "python",
   "nbconvert_exporter": "python",
   "pygments_lexer": "ipython3",
   "version": "3.7.7"
  },
  "pycharm": {
   "stem_cell": {
    "cell_type": "raw",
    "metadata": {
     "collapsed": false
    },
    "source": []
   }
  }
 },
 "nbformat": 4,
 "nbformat_minor": 1
}
