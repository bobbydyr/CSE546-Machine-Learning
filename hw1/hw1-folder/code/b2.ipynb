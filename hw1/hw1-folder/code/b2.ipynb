{
 "cells": [
  {
   "cell_type": "code",
   "execution_count": 1,
   "metadata": {},
   "outputs": [],
   "source": []
  },
  {
   "cell_type": "code",
   "execution_count": 4,
   "metadata": {},
   "outputs": [],
   "source": [
    "import numpy as np\n",
    "import matplotlib.pyplot as plt\n",
    "import mnist\n",
    "bestw = None\n",
    "\n",
    "\n",
    "mndata = mnist.MNIST('./python-mnist/data/')\n",
    "X_train, labels_train = map(np.array, mndata.load_training())\n",
    "X_test, labels_test = map(np.array, mndata.load_testing())\n",
    "X_train = X_train/255.0\n",
    "X_test = X_test/255.0"
   ]
  },
  {
   "cell_type": "code",
   "execution_count": 5,
   "metadata": {},
   "outputs": [],
   "source": [
    "# Problem 6b\n",
    "def train(X, Y, lamd):\n",
    "    d = X.shape[1]\n",
    "    left = X.T@X + lamd * np.eye(d,d)\n",
    "    right = X.T@Y\n",
    "    W_hat = np.linalg.solve(left, right)\n",
    "    return W_hat"
   ]
  },
  {
   "cell_type": "code",
   "execution_count": 6,
   "metadata": {},
   "outputs": [],
   "source": [
    "def predict(W, Xprime):\n",
    "    prediction = np.argmax(Xprime@W, axis = 1)\n",
    "    return prediction"
   ]
  },
  {
   "cell_type": "code",
   "execution_count": 7,
   "metadata": {},
   "outputs": [],
   "source": [
    "# Turn labels_train into one hot code\n",
    "Y_train = np.zeros((X_train.shape[0], 10))\n",
    "for i,number in enumerate(labels_train):\n",
    "    Y_train[i, number] = 1"
   ]
  },
  {
   "cell_type": "code",
   "execution_count": null,
   "metadata": {},
   "outputs": [],
   "source": []
  },
  {
   "cell_type": "code",
   "execution_count": null,
   "metadata": {},
   "outputs": [],
   "source": [
    "W = train(X_train, Y_train, 10**(-4))\n",
    "train_pre = predict(W, X_train)\n",
    "test_pre = predict(W, X_test)\n",
    "\n",
    "test_error = sum([1 for i in range(len(test_pre)) if test_pre[i] != labels_test[i] ]) / len(test_pre)\n",
    "train_error = sum([1 for i in range(len(train_pre)) if train_pre[i] != labels_train[i] ]) / len(train_pre)\n",
    "\n",
    "print(\"Training error:\", train_error)\n",
    "print(\"Test error:\", test_error)"
   ]
  },
  {
   "cell_type": "code",
   "execution_count": null,
   "metadata": {},
   "outputs": [],
   "source": []
  },
  {
   "cell_type": "code",
   "execution_count": 11,
   "metadata": {},
   "outputs": [],
   "source": [
    "# Problem 6c)\n",
    "variance = 0.1\n",
    "lam = 0.01\n",
    "p_value = [500*i for i in range(1, 13)]\n",
    "train_percent = 0.8\n",
    "ori_train_size = X_train.shape[0]\n",
    "ori_test_size = X_test.shape[0]\n",
    "d = X_train.shape[1]\n",
    "train_error_record = []\n",
    "validation_error_record = []"
   ]
  },
  {
   "cell_type": "code",
   "execution_count": 12,
   "metadata": {},
   "outputs": [
    {
     "name": "stdout",
     "output_type": "stream",
     "text": [
      "p value =  500\n",
      "training error:  0.232875\n",
      "validation error:  0.24183333333333334\n",
      "p value =  1000\n",
      "training error:  0.13441666666666666\n",
      "validation error:  0.15433333333333332\n",
      "p value =  1500\n",
      "training error:  0.0965\n",
      "validation error:  0.11533333333333333\n",
      "p value =  2000\n",
      "training error:  0.0783125\n",
      "validation error:  0.10183333333333333\n",
      "p value =  2500\n",
      "training error:  0.059625\n",
      "validation error:  0.07833333333333334\n",
      "p value =  3000\n",
      "training error:  0.050458333333333334\n",
      "validation error:  0.07491666666666667\n",
      "p value =  3500\n",
      "training error:  0.0414375\n",
      "validation error:  0.07008333333333333\n",
      "p value =  4000\n",
      "training error:  0.036291666666666667\n",
      "validation error:  0.06208333333333333\n",
      "p value =  4500\n",
      "training error:  0.03135416666666667\n",
      "validation error:  0.0585\n",
      "p value =  5000\n",
      "training error:  0.025625\n",
      "validation error:  0.0555\n",
      "p value =  5500\n",
      "training error:  0.0223125\n",
      "validation error:  0.05341666666666667\n",
      "p value =  6000\n",
      "training error:  0.020854166666666667\n",
      "validation error:  0.052833333333333336\n"
     ]
    },
    {
     "data": {
      "image/png": "[encoded data removed]",
      "text/plain": [
       "<Figure size 432x288 with 1 Axes>"
      ]
     },
     "metadata": {
      "needs_background": "light"
     },
     "output_type": "display_data"
    }
   ],
   "source": [
    "# randomly select 80 percent of train data and 20 percent of validation data\n",
    "index = np.arange(ori_train_size)\n",
    "np.random.shuffle(index)\n",
    "train_index = index[0:int(train_percent * ori_train_size)]\n",
    "validation_index = index[int(train_percent * ori_train_size) : ]\n",
    "\n",
    "# use the shuffled index to change the original data to random, select corresponding rows\n",
    "shuffled_labels_validation = labels_train[validation_index]\n",
    "shuffled_labels_train = labels_train[train_index]\n",
    "new_Y_train = Y_train[train_index, :]\n",
    "\n",
    "for p in p_value:\n",
    "    print(\"p value = \", p)\n",
    "    #choose G to be a random matrix, with each entry sampled i.i.d. from a Gaussian \n",
    "    #choose b to be a random vector sampled i.i.d. from the uniform distribution\n",
    "    G = np.random.normal(0, np.sqrt(variance), size = (p,d))\n",
    "    b = np.random.uniform(low=0, high=2*np.pi, size=(p,1)) \n",
    "    \n",
    "    # Since we need the whole matrix, from the formula given, we need to X = cos(X_train*G^T) + b^T\n",
    "    # python \"+\" will plus b by each column\n",
    "    transed_X_train= np.cos(np.dot(X_train, G.T) + b.T)\n",
    "    new_X_train = transed_X_train[train_index, :]\n",
    "    new_X_validate = transed_X_train[validation_index, :]\n",
    "    \n",
    "    # use the function in the previous problem to fit a model and then predict\n",
    "    Wp = train(new_X_train, new_Y_train, lam)\n",
    "    train_pre = predict(Wp, new_X_train)\n",
    "    validation_pre = predict(Wp, new_X_validate)\n",
    "    \n",
    "    train_error = sum([1 for i in range(len(train_pre)) if train_pre[i] != shuffled_labels_train[i] ]) / len(train_pre)\n",
    "    validation_error = sum([1 for i in range(len(validation_pre)) if validation_pre[i] != shuffled_labels_validation[i] ]) / len(validation_pre)\n",
    "    train_error_record.append(train_error)\n",
    "    validation_error_record.append(validation_error)\n",
    "\n",
    "\n",
    "    print(\"training error: \", train_error)\n",
    "    print(\"validation error: \", validation_error)\n",
    "\n",
    "\n",
    "plt.plot(p_value, train_error_record)\n",
    "plt.plot(p_value, validation_error_record)\n",
    "plt.xlabel('p value')\n",
    "plt.ylabel('error')\n",
    "plt.legend([\"training error\", \"validation error\"])\n",
    "plt.show()"
   ]
  },
  {
   "cell_type": "code",
   "execution_count": 13,
   "metadata": {},
   "outputs": [],
   "source": [
    "variance = 0.1\n",
    "p = 6000\n",
    "d = X_test.shape[1]\n",
    "G = np.random.normal(0, np.sqrt(variance), size = (p,d))\n",
    "b = np.random.uniform(low=0, high=2*np.pi, size=(p,1)) \n",
    "\n",
    "index = np.arange(X_train.shape[0])\n",
    "np.random.shuffle(index)\n",
    "train_index = index[0:int(0.8 * X_train.shape[0])]\n",
    "validation_index = index[int(0.8 * X_train.shape[0]) : ]\n",
    "\n",
    "shuffled_labels_validation = labels_train[validation_index]\n",
    "shuffled_labels_train = labels_train[train_index]\n",
    "\n",
    "new_Y_train = Y_train[train_index, :]\n",
    "transed_X_train= np.cos(np.dot(X_train, G.T) + b.T)\n",
    "\n",
    "new_X_train = transed_X_train[train_index, :]\n",
    "new_X_validate = transed_X_train[validation_index, :]\n",
    "\n",
    "Wp = train(new_X_train, new_Y_train, lam)\n",
    "\n",
    "traned_X_test = np.cos(np.dot(X_test, G.T) + b.T)\n",
    "test_pre = predict(Wp, traned_X_test)\n",
    "test_error = sum([1 for i in range(len(test_pre)) if test_pre[i] != labels_test[i] ]) / len(test_pre)\n",
    "q = X_test.shape[0]\n",
    "interval = np.sqrt(np.log(40) /  (2*q))"
   ]
  },
  {
   "cell_type": "code",
   "execution_count": 14,
   "metadata": {},
   "outputs": [
    {
     "name": "stdout",
     "output_type": "stream",
     "text": [
      "test error:  0.048\n",
      "95% confidence interval:\n",
      "0.03441898484259381 ,  0.061581015157406195\n"
     ]
    }
   ],
   "source": [
    "print(\"test error: \", test_error)\n",
    "\n",
    "print(\"95% confidence interval:\")\n",
    "print( test_error - interval, \", \", test_error + interval)"
   ]
  },
  {
   "cell_type": "code",
   "execution_count": 15,
   "metadata": {},
   "outputs": [
    {
     "data": {
      "text/plain": [
       "array([[-6.74126957e-04,  8.77826530e-04,  1.25471870e-03, ...,\n",
       "        -5.07450972e-05,  1.45705655e-04, -7.13207806e-04],\n",
       "       [-1.51913060e-03,  3.45378333e-04,  2.12841656e-04, ...,\n",
       "         9.33724200e-04,  4.91370021e-04,  8.08656172e-04],\n",
       "       [-2.63943107e-03,  2.28774533e-03, -2.81732973e-03, ...,\n",
       "        -1.48127794e-03, -3.44840619e-04, -2.22428311e-03],\n",
       "       ...,\n",
       "       [-4.62287965e-05,  8.63129422e-04, -1.83383374e-03, ...,\n",
       "         1.62816803e-03,  1.29383687e-03,  2.85500513e-03],\n",
       "       [-3.43153283e-04,  1.03529290e-03, -5.81615759e-04, ...,\n",
       "        -7.46094699e-04, -3.14441978e-04, -4.35252521e-03],\n",
       "       [ 7.83135669e-04, -3.45949454e-05,  6.66573030e-04, ...,\n",
       "         2.15913132e-03, -4.33895253e-03,  1.24720563e-03]])"
      ]
     },
     "execution_count": 15,
     "metadata": {},
     "output_type": "execute_result"
    }
   ],
   "source": [
    "variance = 0.1\n",
    "p = 6000\n",
    "d = X_test.shape[1]\n",
    "G = np.random.normal(0, np.sqrt(variance), size = (p,d))\n",
    "b = np.random.uniform(low=0, high=2*np.pi, size=(p,1)) \n",
    "\n",
    "index = np.arange(X_train.shape[0])\n",
    "np.random.shuffle(index)\n",
    "train_index = index[0:int(0.8 * X_train.shape[0])]\n",
    "validation_index = index[int(0.8 * X_train.shape[0]) : ]\n",
    "\n",
    "shuffled_labels_validation = labels_train[validation_index]\n",
    "shuffled_labels_train = labels_train[train_index]\n",
    "\n",
    "new_Y_train = Y_train[train_index, :]\n",
    "X= np.cos(np.dot(X_train, G.T) + b.T)\n",
    "\n",
    "new_X_train = transed_X_train[train_index, :]\n",
    "new_X_validate = transed_X_train[validation_index, :]\n",
    "\n",
    "Wp = train(X, labels_train, lam)\n",
    "\n",
    "X_ttt = np.cos(np.dot(X_test, G.T) + b.T)\n",
    "test_pre = predict(Wp, X_ttt)\n",
    "error = sum(test_pre == labels_test) / test_pre.size\n",
    "\n",
    "print(\"test error: \", test_error)\n",
    "\n",
    "print(\"95% confidence interval:\")\n",
    "print( test_error - interval, \", \", test_error + interval)"
   ]
  },
  {
   "cell_type": "code",
   "execution_count": null,
   "metadata": {},
   "outputs": [],
   "source": []
  }
 ],
 "metadata": {
  "kernelspec": {
   "display_name": "Python 3",
   "language": "python",
   "name": "python3"
  },
  "language_info": {
   "codemirror_mode": {
    "name": "ipython",
    "version": 3
   },
   "file_extension": ".py",
   "mimetype": "text/x-python",
   "name": "python",
   "nbconvert_exporter": "python",
   "pygments_lexer": "ipython3",
   "version": "3.7.7"
  }
 },
 "nbformat": 4,
 "nbformat_minor": 2
}
