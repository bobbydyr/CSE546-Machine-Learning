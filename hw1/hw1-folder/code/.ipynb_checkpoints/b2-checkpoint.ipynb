{
 "cells": [
  {
   "cell_type": "code",
   "execution_count": 1,
   "metadata": {},
   "outputs": [],
   "source": [
    "import numpy as np\n",
    "from mnist import MNIST\n",
    "import matplotlib.pyplot as plt"
   ]
  },
  {
   "cell_type": "code",
   "execution_count": 2,
   "metadata": {},
   "outputs": [],
   "source": [
    "mndata = MNIST()\n",
    "mndata.gz = True\n",
    "X_train, labels_train = map(np.array, mndata.load_training())\n",
    "X_test, labels_test = map(np.array, mndata.load_testing())\n",
    "X_train = X_train/255.0\n",
    "X_test = X_test/255.0"
   ]
  },
  {
   "cell_type": "code",
   "execution_count": 3,
   "metadata": {},
   "outputs": [],
   "source": [
    "# Problem 6b\n",
    "def train(X, Y, lamd):\n",
    "    d = X.shape[1]\n",
    "    left = X.T@X + lamd * np.eye(d,d)\n",
    "    right = X.T@Y\n",
    "    W_hat = np.linalg.solve(left, right)\n",
    "    return W_hat"
   ]
  },
  {
   "cell_type": "code",
   "execution_count": 4,
   "metadata": {},
   "outputs": [],
   "source": [
    "def predict(W, Xprime):\n",
    "    prediction = np.argmax(Xprime@W, axis = 1)\n",
    "    return prediction"
   ]
  },
  {
   "cell_type": "code",
   "execution_count": 5,
   "metadata": {},
   "outputs": [],
   "source": [
    "# Turn labels_train into one hot code\n",
    "Y_train = np.zeros((X_train.shape[0], 10))\n",
    "for i,number in enumerate(labels_train):\n",
    "    Y_train[i, number] = 1"
   ]
  },
  {
   "cell_type": "code",
   "execution_count": null,
   "metadata": {},
   "outputs": [],
   "source": [
    "W = train(X_train, Y_train, 10**(-4))\n",
    "train_pre = predict(W, X_train)\n",
    "test_pre = predict(W, X_test)\n",
    "\n",
    "test_error = sum([1 for i in range(len(test_pre)) if test_pre[i] != labels_test[i] ]) / len(test_pre)\n",
    "train_error = sum([1 for i in range(len(train_pre)) if train_pre[i] != labels_train[i] ]) / len(train_pre)\n",
    "\n",
    "print(\"Training error:\", train_error)\n",
    "print(\"Test error:\", test_error)"
   ]
  },
  {
   "cell_type": "code",
   "execution_count": 7,
   "metadata": {},
   "outputs": [],
   "source": [
    "# Problem 6c)\n",
    "variance = 0.1\n",
    "lam = 0.01\n",
    "p_value = [500*i for i in range(1, 13)]\n",
    "train_percent = 0.8\n",
    "ori_train_size = X_train.shape[0]\n",
    "ori_test_size = X_test.shape[0]\n",
    "d = X_train.shape[1]\n",
    "train_error_record = []\n",
    "validation_error_record = []"
   ]
  },
  {
   "cell_type": "code",
   "execution_count": null,
   "metadata": {},
   "outputs": [],
   "source": [
    "# randomly select 80 percent of train data and 20 percent of validation data\n",
    "index = np.arange(ori_train_size)\n",
    "np.random.shuffle(index)\n",
    "train_index = index[0:int(train_percent * ori_train_size)]\n",
    "validation_index = index[int(train_percent * ori_train_size) : ]\n",
    "\n",
    "# use the shuffled index to change the original data to random, select corresponding rows\n",
    "shuffled_labels_validation = labels_train[validation_index]\n",
    "shuffled_labels_train = labels_train[train_index]\n",
    "new_Y_train = Y_train[train_index, :]\n",
    "\n",
    "for p in p_value:\n",
    "    print(\"p value = \", p)\n",
    "    #choose G to be a random matrix, with each entry sampled i.i.d. from a Gaussian \n",
    "    #choose b to be a random vector sampled i.i.d. from the uniform distribution\n",
    "    G = np.random.normal(0, np.sqrt(variance), size = (p,d))\n",
    "    b = np.random.uniform(low=0, high=2*np.pi, size=(p,1)) \n",
    "    \n",
    "    # Since we need the whole matrix, from the formula given, we need to X = cos(X_train*G^T) + b^T\n",
    "    # python \"+\" will plus b by each column\n",
    "    transed_X_train= np.cos(np.dot(X_train, G.T) + b.T)\n",
    "    new_X_train = transed_X_train[train_index, :]\n",
    "    new_X_validate = transed_X_train[validation_index, :]\n",
    "    \n",
    "    # use the function in the previous problem to fit a model and then predict\n",
    "    Wp = train(new_X_train, new_Y_train, lam)\n",
    "    train_pre = predict(Wp, new_X_train)\n",
    "    validation_pre = predict(Wp, new_X_validate)\n",
    "    \n",
    "    train_error = sum([1 for i in range(len(train_pre)) if train_pre[i] != shuffled_labels_train[i] ]) / len(train_pre)\n",
    "    validation_error = sum([1 for i in range(len(validation_pre)) if validation_pre[i] != shuffled_labels_validation[i] ]) / len(validation_pre)\n",
    "    train_error_record.append(train_error)\n",
    "    validation_error_record.append(validation_error)\n",
    "\n",
    "\n",
    "    print(\"training error: \", train_error)\n",
    "    print(\"validation error: \", validation_error)\n",
    "\n",
    "\n",
    "plt.plot(p_value, train_error_record)\n",
    "plt.plot(p_value, validation_error_record)\n",
    "plt.xlabel('p value')\n",
    "plt.ylabel('error')\n",
    "plt.legend([\"training error\", \"validation error\"])\n",
    "plt.show()"
   ]
  },
  {
   "cell_type": "code",
   "execution_count": 9,
   "metadata": {},
   "outputs": [],
   "source": [
    "p = 6000\n",
    "d = X_test.shape[1]\n",
    "G = np.random.normal(0, np.sqrt(variance), size = (p,d))\n",
    "b = np.random.uniform(low=0, high=2*np.pi, size=(p,1)) \n",
    "\n",
    "index = np.arange(ori_train_size)\n",
    "np.random.shuffle(index)\n",
    "train_index = index[0:int(train_percent * ori_train_size)]\n",
    "validation_index = index[int(train_percent * ori_train_size) : ]\n",
    "\n",
    "shuffled_labels_validation = labels_train[validation_index]\n",
    "shuffled_labels_train = labels_train[train_index]\n",
    "new_Y_train = Y_train[train_index, :]\n",
    "transed_X_train= np.cos(np.dot(X_train, G.T) + b.T)\n",
    "\n",
    "new_X_train = transed_X_train[train_index, :]\n",
    "new_X_validate = transed_X_train[validation_index, :]\n",
    "\n",
    "Wp = train(new_X_train, new_Y_train, lam)\n",
    "\n",
    "traned_X_test = np.cos(np.dot(X_test, G.T) + b.T)\n",
    "test_pre = predict(Wp, traned_X_test)\n",
    "test_error = sum([1 for i in range(len(test_pre)) if test_pre[i] != labels_test[i] ]) / len(test_pre)\n",
    "q = X_test.shape[0]\n",
    "interval = np.sqrt(np.log(40) /  (2*q))"
   ]
  },
  {
   "cell_type": "code",
   "execution_count": 10,
   "metadata": {},
   "outputs": [
    {
     "name": "stdout",
     "output_type": "stream",
     "text": [
      "test error:  0.0491\n",
      "95% confidence interval:\n",
      "0.035518984842593804 ,  0.06268101515740619\n"
     ]
    }
   ],
   "source": [
    "print(\"test error: \", test_error)\n",
    "\n",
    "print(\"95% confidence interval:\")\n",
    "print( test_error - interval, \", \", test_error + interval)"
   ]
  },
  {
   "cell_type": "code",
   "execution_count": null,
   "metadata": {},
   "outputs": [],
   "source": []
  }
 ],
 "metadata": {
  "kernelspec": {
   "display_name": "Python 3",
   "language": "python",
   "name": "python3"
  },
  "language_info": {
   "codemirror_mode": {
    "name": "ipython",
    "version": 3
   },
   "file_extension": ".py",
   "mimetype": "text/x-python",
   "name": "python",
   "nbconvert_exporter": "python",
   "pygments_lexer": "ipython3",
   "version": "3.7.7"
  }
 },
 "nbformat": 4,
 "nbformat_minor": 2
}
